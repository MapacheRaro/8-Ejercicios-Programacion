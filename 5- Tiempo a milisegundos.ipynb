{
 "cells": [
  {
   "cell_type": "markdown",
   "metadata": {},
   "source": [
    "# TIEMPO A MILISEGUNDOS"
   ]
  },
  {
   "cell_type": "code",
   "execution_count": 3,
   "metadata": {},
   "outputs": [
    {
     "name": "stdout",
     "output_type": "stream",
     "text": [
      "Total en milisegundos:  95445000\n"
     ]
    }
   ],
   "source": [
    "def tiempo_a_milisegundos(dias, horas, minutos, segundos):\n",
    "\n",
    "    mili_dia = 24 * 60 * 60 * 1000\n",
    "    mili_hora = 60 * 60 * 1000\n",
    "    mili_minuto = 60 * 1000\n",
    "    mili_segundo = 1000\n",
    "   \n",
    "    total_milisegundos = ( dias * mili_dia + horas * mili_hora + minutos * mili_minuto + segundos * mili_segundo)\n",
    "\n",
    "    return total_milisegundos\n",
    "\n",
    "dias  = int(input(\"Ingrese los dias: \"))\n",
    "horas = int(input(\"Ingrese las horas: \"))\n",
    "minutos = int(input(\"Ingrese los minutos: \"))\n",
    "segundos  = int(input(\"Ingrese los segundos: \"))\n",
    "\n",
    "resultado =  tiempo_a_milisegundos(dias, horas, minutos, segundos)\n",
    "print (\"Total en milisegundos: \", resultado)"
   ]
  },
  {
   "cell_type": "markdown",
   "metadata": {},
   "source": [
    "#### Bloque 1 declaramos variables con el valor en milisegundos dentri de la funcion de conversion  de tiempo con los atributos solicitador\n",
    "#### devolvemos de esta funcion  el tiempo en milisegundos\n",
    "#### Luego  llamamos a la funcion de conversion de tiempo y la guardamos en una variable llamada tiempo y ingresamos dentro del mismo codigo un valor para que lo calcule y por ultimo lo imprima por consola\n",
    "\n"
   ]
  }
 ],
 "metadata": {
  "kernelspec": {
   "display_name": "Python 3",
   "language": "python",
   "name": "python3"
  },
  "language_info": {
   "codemirror_mode": {
    "name": "ipython",
    "version": 3
   },
   "file_extension": ".py",
   "mimetype": "text/x-python",
   "name": "python",
   "nbconvert_exporter": "python",
   "pygments_lexer": "ipython3",
   "version": "3.13.0"
  }
 },
 "nbformat": 4,
 "nbformat_minor": 2
}
