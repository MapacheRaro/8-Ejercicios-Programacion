{
 "cells": [
  {
   "cell_type": "markdown",
   "metadata": {},
   "source": [
    "# Numero Astromg - Ejercicio # 4"
   ]
  },
  {
   "cell_type": "code",
   "execution_count": null,
   "metadata": {},
   "outputs": [
    {
     "name": "stdout",
     "output_type": "stream",
     "text": [
      "153 no es un número de Armstrong\n"
     ]
    }
   ],
   "source": [
    "def es_numero_armstrong(num):\n",
    "    str_num = str(num)\n",
    "    n = len(str_num)\n",
    "    \n",
    "    suma = 0\n",
    "\n",
    "    for digito in str_num:\n",
    "        suma += int(digito) ** n\n",
    "    \n",
    "    if suma == num:\n",
    "        return True\n",
    "    else:\n",
    "        return False \n",
    "\n",
    "\n",
    "numero = int(input(\"Escribe tu número: \"))  # Convierte la entrada a entero\n",
    "if es_numero_armstrong(numero):\n",
    "    print(numero, \"es un número de Armstrong\")\n",
    "else:\n",
    "    print(numero, \"no es un número de Armstrong\")\n"
   ]
  },
  {
   "cell_type": "markdown",
   "metadata": {},
   "source": [
    "### Definimos la funcion es_numero_armstrong que recibe un parametro (num)\n",
    "###### Convertimos el número a cadena para poder contar la cantidad de digitos, luego obtenemos la cantidad de digitos del numero con la funcion de python  \"len()\".\n",
    "###### Declaramos una variable suma en 0 para almacenar la suma de los digitos elevados a la potencia n\n",
    "### Creamos una iteracion dentro de la funcion  \n",
    "###### para recorrer cada digito del numero y convertimos el caracter a entero y lo elevamos a la potencia n, sumandolo a la variable suma\n",
    "### Creamos una condicion dentro de la funcion \n",
    "###### Verificamos si la suma es igual al numero original devolviendo en la primera opcion un valor boleano coo verdadero y sino un valor boleano falso.\n",
    "\n",
    "\n",
    "### Explicacion de este bloque de funcion: <b> ABAJO: </b>"
   ]
  },
  {
   "cell_type": "code",
   "execution_count": null,
   "metadata": {},
   "outputs": [],
   "source": [
    "    str_num = str(num)\n",
    "    n = len(str_num)\n",
    "    \n",
    "    suma = 0\n",
    "    \n",
    "    for digito in str_num:\n",
    "        suma += int(digito) ** n\n",
    "    \n",
    "    if suma == num:\n",
    "        return True\n",
    "    else:\n",
    "        return False"
   ]
  },
  {
   "cell_type": "markdown",
   "metadata": {},
   "source": [
    "### Explicacion de este bloque de funcion: \n",
    "###### Solicitamos al usuario el numero mediante imput y creamos una condicion de la funcion previamente creada mediante un if, donde este compara el numero y determina si cumple las condiciones para ser armstrong entonces imprime que es un numero y sino no cumple imprime que no es y en ambos caso el numero que digito el usuario tambien aparece por impresion en consola <b> CODIGO ABAJO: </b>"
   ]
  },
  {
   "cell_type": "code",
   "execution_count": null,
   "metadata": {},
   "outputs": [],
   "source": [
    "numero = input(int(\"Escribe tu numero: \"))\n",
    "if es_numero_armstrong(numero):\n",
    "    print(numero, \" es un número de Armstrong\")\n",
    "else:\n",
    "    print(numero, \" no es un número de Armstrong\")"
   ]
  }
 ],
 "metadata": {
  "kernelspec": {
   "display_name": "Python 3",
   "language": "python",
   "name": "python3"
  },
  "language_info": {
   "codemirror_mode": {
    "name": "ipython",
    "version": 3
   },
   "file_extension": ".py",
   "mimetype": "text/x-python",
   "name": "python",
   "nbconvert_exporter": "python",
   "pygments_lexer": "ipython3",
   "version": "3.13.0"
  }
 },
 "nbformat": 4,
 "nbformat_minor": 2
}
