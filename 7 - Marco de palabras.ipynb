{
 "cells": [
  {
   "cell_type": "markdown",
   "metadata": {},
   "source": [
    "# 7 - Marco de palabras"
   ]
  },
  {
   "cell_type": "code",
   "execution_count": null,
   "metadata": {},
   "outputs": [],
   "source": [
    "def contar_caracteres(palabra):\n",
    "    # Función para contar caracteres de una palabra\n",
    "    contador = 0\n",
    "    for _ in palabra:\n",
    "        contador += 1\n",
    "    return contador\n",
    "\n",
    "def agregar_a_lista(lista, palabra):\n",
    "    # Función para agregar manualmente una palabra a una lista\n",
    "    nueva_lista = [None] * (contar_caracteres(lista) + 1)\n",
    "    indice = 0\n",
    "    for elemento in lista:\n",
    "        nueva_lista[indice] = elemento\n",
    "        indice += 1\n",
    "    nueva_lista[indice] = palabra\n",
    "    return nueva_lista\n",
    "\n",
    "def obtener_palabras(texto):\n",
    "    # Función para dividir el texto en palabras sin usar split\n",
    "    palabras = []\n",
    "    palabra = \"\"\n",
    "    for caracter in texto:\n",
    "        if caracter == \" \":\n",
    "            if palabra:\n",
    "                palabras = agregar_a_lista(palabras, palabra)\n",
    "                palabra = \"\"\n",
    "        else:\n",
    "            palabra += caracter\n",
    "    if palabra:\n",
    "        palabras = agregar_a_lista(palabras, palabra)\n",
    "    return palabras\n",
    "\n",
    "def obtener_longitud_maxima(palabras):\n",
    "    # Función para obtener la longitud de la palabra más larga\n",
    "    max_len = 0\n",
    "    for palabra in palabras:\n",
    "        longitud_palabra = contar_caracteres(palabra)\n",
    "        if longitud_palabra > max_len:\n",
    "            max_len = longitud_palabra\n",
    "    return max_len\n",
    "\n",
    "def crear_borde(longitud):\n",
    "    # Función para crear un borde de asteriscos\n",
    "    borde = \"\"\n",
    "    for _ in range(longitud + 4):\n",
    "        borde += \"*\"\n",
    "    return borde\n",
    "\n",
    "def imprimir_marco(palabras, max_len):\n",
    "    # Función para imprimir cada palabra dentro del marco\n",
    "    for palabra in palabras:\n",
    "        espacios_restantes = max_len - contar_caracteres(palabra)\n",
    "        espacios = \"\"\n",
    "        for _ in range(espacios_restantes):\n",
    "            espacios += \" \"\n",
    "        print(\"* \" + palabra + espacios + \" *\")\n",
    "\n",
    "def marco_de_palabras(texto):\n",
    "    # Función principal para ejecutar todo el programa\n",
    "    palabras = obtener_palabras(texto)\n",
    "    max_len = obtener_longitud_maxima(palabras)\n",
    "    borde = crear_borde(max_len)\n",
    "    print(borde)\n",
    "    imprimir_marco(palabras, max_len)\n",
    "    print(borde)\n",
    "\n",
    "# Llamamos a la función con el texto de ejemplo\n",
    "marco_de_palabras(\"¿Qué te parece el reto?\")\n"
   ]
  },
  {
   "cell_type": "markdown",
   "metadata": {},
   "source": [
    "#### Este codigo fue ayudado a constuir y comentado con la ia de Black Box. ai"
   ]
  }
 ],
 "metadata": {
  "language_info": {
   "name": "python"
  }
 },
 "nbformat": 4,
 "nbformat_minor": 2
}
