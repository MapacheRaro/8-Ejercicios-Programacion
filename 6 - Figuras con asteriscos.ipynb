{
 "cells": [
  {
   "cell_type": "code",
   "execution_count": null,
   "metadata": {},
   "outputs": [
    {
     "name": "stdout",
     "output_type": "stream",
     "text": [
      "Digite el número de la opción para el tipo de figura:\n",
      "1 : Cuadrado\n",
      "2 : Triángulo\n",
      "* * * * \n",
      "* * * * \n",
      "* * * * \n",
      "* * * * \n"
     ]
    }
   ],
   "source": [
    "def dibujar_cuadrado(tamaño):\n",
    "    for i in range(tamaño):\n",
    "        print(\"* \" * tamaño)\n",
    "\n",
    "def dibujar_triangulo(tamaño):\n",
    "    for i in range(1, tamaño + 1):\n",
    "        print(\"* \" * i)\n",
    "\n",
    "def Proceso_Dibujo():\n",
    "    print(\"Digite el número de la opción para el tipo de figura:\")\n",
    "    print(\"1 : Cuadrado\")\n",
    "    print(\"2 : Triángulo\")\n",
    "    figura = int(input(\"¿Qué figura quieres dibujar 1 o 2? \"))\n",
    "    tamaño = int(input(\"Introduce el tamaño del lado: \"))\n",
    "\n",
    "    if figura == 1:\n",
    "        dibujar_cuadrado(tamaño)\n",
    "    elif figura == 2:\n",
    "        dibujar_triangulo(tamaño)\n",
    "    else:\n",
    "        print(\"Figura no reconocida. Por favor, elige '1' o '2'.\")\n",
    "\n",
    "Proceso_Dibujo()\n",
    "\n"
   ]
  }
 ],
 "metadata": {
  "kernelspec": {
   "display_name": "Python 3",
   "language": "python",
   "name": "python3"
  },
  "language_info": {
   "codemirror_mode": {
    "name": "ipython",
    "version": 3
   },
   "file_extension": ".py",
   "mimetype": "text/x-python",
   "name": "python",
   "nbconvert_exporter": "python",
   "pygments_lexer": "ipython3",
   "version": "3.13.0"
  }
 },
 "nbformat": 4,
 "nbformat_minor": 2
}
