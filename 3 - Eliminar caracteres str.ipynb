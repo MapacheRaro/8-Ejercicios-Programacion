{
 "cells": [
  {
   "cell_type": "markdown",
   "metadata": {},
   "source": [
    "# Eliminando Caracteres - Ejercicio # 3"
   ]
  },
  {
   "cell_type": "code",
   "execution_count": null,
   "metadata": {},
   "outputs": [
    {
     "name": "stdout",
     "output_type": "stream",
     "text": [
      "out1: ace\n",
      "out2: hij\n",
      "abcdef bdfhij\n",
      "out1: ace\n",
      "out2: hij\n"
     ]
    }
   ],
   "source": [
    "def eliminando_caracteres(str1, str2):\n",
    "    out1 = \"\"\n",
    "    out2 = \"\"\n",
    "\n",
    "\n",
    "    for char in str1:\n",
    "\n",
    "        if char not in str2:\n",
    "            out1 += char\n",
    "\n",
    "    for char in str2:\n",
    "        if char not in str1:\n",
    "            out2 += char\n",
    "\n",
    "    print(\"out1:\", out1)\n",
    "    print(\"out2:\", out2)\n",
    "\n",
    "str1 = str(input(\"Escriba la primera cadena\"))\n",
    "str2 = str(input(\"Escriba la primera cadena\"))\n",
    "eliminando_caracteres(str1, str2)\n",
    "\n",
    "print(str1, str2)\n",
    "\n"
   ]
  },
  {
   "cell_type": "markdown",
   "metadata": {},
   "source": [
    "### Definimos la función eliminando_caracteres con dos parámetros: str1 y str2:\n",
    "###### Para el primer bloque del codigo , creamos una función llamada eliminar_caracteres que recibe dos parámetros: str donde iniciamos out1 y out2 como cadenas vacías, donde almacenaremos los resultados: <b> CODIGO ABAJO: </b>"
   ]
  },
  {
   "cell_type": "code",
   "execution_count": null,
   "metadata": {},
   "outputs": [],
   "source": [
    "def eliminando_caracteres(str1, str2):\n",
    "    out1 = \"\"\n",
    "    out2 = \"\""
   ]
  },
  {
   "cell_type": "markdown",
   "metadata": {},
   "source": [
    "### creamos una iteracion con un for de tipo caracter con condicional para str1. (IMPORTANTE respetar la identacion)\n",
    "###### Recorremos cada carácter en str1, si el carácter no está en str2, lo añadimos a out1: <b> CODIGO ABAJO: </b>"
   ]
  },
  {
   "cell_type": "code",
   "execution_count": null,
   "metadata": {},
   "outputs": [],
   "source": [
    "    for char in str1:\n",
    "        if char not in str2:\n",
    "            out1 += char"
   ]
  },
  {
   "cell_type": "markdown",
   "metadata": {},
   "source": [
    "### creamos una iteracion con un for de tipo caracter con condicional para str2. (IMPORTANTE respetar la identacion)\n",
    "###### Recorremos cada carácter en str2, si el carácter no está en str1, lo añadimos a out2: <b> CODIGO ABAJO: </b>"
   ]
  },
  {
   "cell_type": "code",
   "execution_count": null,
   "metadata": {},
   "outputs": [],
   "source": [
    "    for char in str2:\n",
    "        if char not in str1:\n",
    "            out2 += char"
   ]
  },
  {
   "cell_type": "markdown",
   "metadata": {},
   "source": [
    "### Imprimimos el resultado de out1 y out2 (IMPORTANTE: RESPETANDO LA IDENTACION,no hemos salido de la funcion)"
   ]
  },
  {
   "cell_type": "code",
   "execution_count": null,
   "metadata": {},
   "outputs": [],
   "source": [
    "\n",
    "    print(\"out1:\", out1)\n",
    "    print(\"out2:\", out2)"
   ]
  },
  {
   "cell_type": "markdown",
   "metadata": {},
   "source": [
    "### Agregamos valor a las variables por medio de imput y llamamos la funcion:\n",
    "###### Finalmente , llamamos a la función para obtener los resultados de tipo str por medio de imput e imprimimos por consola.\n"
   ]
  },
  {
   "cell_type": "code",
   "execution_count": null,
   "metadata": {},
   "outputs": [],
   "source": [
    "str1 = str(input(\"Escriba la primera cadena\"))\n",
    "str2 = str(input(\"Escriba la primera cadena\"))\n",
    "eliminando_caracteres(str1, str2)\n",
    "\n",
    "print(str1, str2)"
   ]
  }
 ],
 "metadata": {
  "kernelspec": {
   "display_name": "Python 3",
   "language": "python",
   "name": "python3"
  },
  "language_info": {
   "codemirror_mode": {
    "name": "ipython",
    "version": 3
   },
   "file_extension": ".py",
   "mimetype": "text/x-python",
   "name": "python",
   "nbconvert_exporter": "python",
   "pygments_lexer": "ipython3",
   "version": "3.13.0"
  }
 },
 "nbformat": 4,
 "nbformat_minor": 2
}
