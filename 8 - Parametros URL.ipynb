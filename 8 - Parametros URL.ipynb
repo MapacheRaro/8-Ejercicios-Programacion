{
 "cells": [
  {
   "cell_type": "markdown",
   "metadata": {},
   "source": [
    "# Parametros URL - Ejercicio # 8"
   ]
  },
  {
   "cell_type": "markdown",
   "metadata": {},
   "source": [
    "### ¿Que son parametros URL?\n",
    "##### Un parámetro en una URL es una pieza de información adicional que se agrega al final de una URL, normalmente después de un signo de interrogación (?).\n",
    "\n",
    "\n",
    "##### Los parámetros se utilizan para enviar información al servidor en una forma estructurada, permitiendo que una página web reciba datos específicos.\n",
    "\n",
    "\n",
    "##### Cada parámetro está compuesto por una \"clave\" y un \"valor\", separados por el signo igual (=), y múltiples parámetros se separan entre sí con el signo ampersand (&).\n",
    "\n",
    "\n",
    "##### Por ejemplo, en la URL `https://ejemplo.com?nombre=Juan&edad=25`, los parámetros son:\n",
    "\n",
    "##### - nombre=Juan\n",
    "##### - edad=25\n",
    "\n",
    "##### Aquí, nombre y edad son las claves, y Juan y 25 son sus respectivos valores.\n",
    "\n",
    "##### Para encontrar los parámetros en una URL:\n",
    "##### 1. Localizamos el signo de interrogación (?), que indica el inicio de los parámetros.\n",
    "##### 2. A partir de ese punto, los caracteres siguientes forman los parámetros.\n",
    "##### 3. Cada parámetro está separado por el símbolo & si hay más de uno.\n",
    "##### 4. Los parámetros son del tipo clave=valor, y cada clave y valor están separados por el signo =.\n",
    "\n",
    "##### Los parámetros en una URL sirven para pasar información de un navegador web a un servidor. \n",
    "##### Esto es útil cuando se necesita personalizar la respuesta del servidor según el contenido de esos parámetros.\n",
    "##### Por ejemplo, un motor de búsqueda utiliza parámetros en la URL para realizar búsquedas específicas, como en `https://www.google.com/search?q=python`, donde `q=python` es el parámetro que le dice a Google qué buscar.\n",
    "##### Otro ejemplo son los formularios web, donde los parámetros pueden ser enviados como parte de la URL para que el servidor procese los datos ingresados.\n",
    "\n",
    "##### Para concluir, los parámetros en una URL permiten una comunicación eficiente entre el cliente (navegador) y el servidor, transmitiendo información clave como consultas, filtros, configuraciones o datos de formularios.\n",
    "\n",
    "\n",
    "[Si aún no te queda claro, échale un vistazo a este video donde te explicarán muy bien de lo que hablo. 🎥👀](https://www.youtube.com/watch?v=hUX46tEpc2A)\n"
   ]
  },
  {
   "cell_type": "code",
   "execution_count": null,
   "metadata": {},
   "outputs": [],
   "source": [
    "def obtener_parametros(url):\n",
    "    parametros = {}\n",
    "\n",
    "    # Buscamos el índice del '?' para separar la URL de los parámetros\n",
    "    indice_pregunta = -1\n",
    "    for i in range(len(url)):\n",
    "        if url[i] == '?':\n",
    "            indice_pregunta = i\n",
    "            break\n",
    "    \n",
    "    # Si no encontramos el signo '?' en la URL, no hay parámetros\n",
    "    if indice_pregunta == -1:\n",
    "        return parametros\n",
    "    \n",
    "    # Extraemos la parte que contiene los parámetros (después del '?')\n",
    "    parametros_str = url[indice_pregunta + 1:]\n",
    "    \n",
    "    # Iteramos sobre la parte de parámetros, que están separados por '&'\n",
    "    parametro_actual = ''\n",
    "    clave = ''\n",
    "    valor = ''\n",
    "    es_clave = True\n",
    "    for i in range(len(parametros_str) + 1):\n",
    "        if i < len(parametros_str) and parametros_str[i] != '=' and parametros_str[i] != '&':\n",
    "            # Continuamos agregando caracteres al parámetro actual\n",
    "            parametro_actual += parametros_str[i]\n",
    "        elif i < len(parametros_str) and parametros_str[i] == '=':\n",
    "            # Cuando encontramos '=', significa que la parte anterior es la clave\n",
    "            clave = parametro_actual\n",
    "            parametro_actual = ''\n",
    "            es_clave = False\n",
    "        elif i == len(parametros_str) or parametros_str[i] == '&':\n",
    "            # Cuando encontramos '&' o llegamos al final, significa que hemos terminado de leer el valor\n",
    "            if es_clave == False:\n",
    "                valor = parametro_actual\n",
    "                parametros[clave] = valor\n",
    "                parametro_actual = ''\n",
    "                es_clave = True\n",
    "    \n",
    "    return parametros\n"
   ]
  },
  {
   "cell_type": "markdown",
   "metadata": {},
   "source": [
    "# Importante... Diferencia entre \"\" y {}\n",
    "##### Cuando usamos \"\", estamos creando una cadena de texto (string). Es un tipo de dato en Python que almacena una secuencia de caracteres.\n",
    "##### Cuando usamos {}, estamos creando un diccionario en Python, que es un tipo de datos estructurado que almacena pares clave-valor. Los diccionarios se definen con llaves {}, donde cada clave está separada de su valor por : y cada par clave-valor está separado por comas.\n",
    "\n",
    "##### Para entender diferencia entre \"\" y {} mejor dejare un pequeño codigo con la diferencia entre ambos en un codigo Python:"
   ]
  },
  {
   "cell_type": "code",
   "execution_count": 1,
   "metadata": {},
   "outputs": [
    {
     "name": "stdout",
     "output_type": "stream",
     "text": [
      "{'nombre': 'Juan', 'edad': 30}\n",
      "Nombre Juan Edad 30\n"
     ]
    }
   ],
   "source": [
    "mi_diccionario = {\"nombre\": \"Juan\", \"edad\": 30}\n",
    "print(mi_diccionario)  # Salida: {'nombre': 'Juan', 'edad': 30}\n",
    "\n",
    "# vs\n",
    "\n",
    "mi_Cadena = \"Nombre Juan Edad 30\"\n",
    "print(mi_Cadena)  # Salida: Nombre Juan Edad 30"
   ]
  },
  {
   "cell_type": "markdown",
   "metadata": {},
   "source": [
    "[Si aún no te queda claro, échale un vistazo a este video donde te explicarán muy bien de lo que hablo. 🎥👀](https://www.youtube.com/watch?v=CCUNuqqn7PQ)\n"
   ]
  },
  {
   "cell_type": "markdown",
   "metadata": {},
   "source": [
    "# Ahora si, Creamos una funcion para obtener parametros\n"
   ]
  },
  {
   "cell_type": "markdown",
   "metadata": {},
   "source": [
    "##### Definimos la función `obtener_parametros(url)`:\n",
    "##### Esta función recibe una URL como entrada y devuelve un diccionario con los parámetros que se encuentran en esa URL.\n",
    "\n",
    "##### Creación del diccionario `parametros`:\n",
    "##### Inicializamos un diccionario vacío llamado `parametros`, que será el que guardará las claves y valores de los parámetros.\n",
    "\n",
    "##### Buscar el signo de pregunta `?` en la URL:\n",
    "##### Necesitamos encontrar dónde empieza la parte de parámetros en la URL. Normalmente, en una URL, los parámetros empiezan después de un `?`. Por ejemplo: `https://ejemplo.com?nombre=Juan&edad=25`.\n",
    "##### Creamos una variable llamada `indice_pregunta` para almacenar la posición en la que encontramos el signo `?`. Inicialmente, la ponemos en `-1`, lo que significa que no hemos encontrado el `?` aún.\n",
    "\n",
    "##### Recorrer la URL para buscar el `?`:\n",
    "##### Usamos un ciclo `for` para recorrer cada carácter de la URL. Si encontramos el `?`, guardamos su índice en la variable `indice_pregunta` y rompemos el ciclo.\n",
    "\n",
    "##### Comprobación si no hay parámetros:\n",
    "##### Si nunca encontramos el `?` en la URL, eso significa que no hay parámetros, así que simplemente devolvemos el diccionario vacío.\n",
    "\n",
    "##### Extraer los parámetros:\n",
    "##### Si encontramos el `?`, eso significa que los parámetros empiezan justo después de ese signo. Así que cortamos la URL desde el índice después del `?` y lo almacenamos en `parametros_str`.\n",
    "\n",
    "##### Leer los parámetros y sus valores:\n",
    "##### Creamos varias variables para ir construyendo los parámetros:\n",
    "##### `parametro_actual`: almacena la clave o el valor que estamos procesando en ese momento.\n",
    "##### `clave`: guarda el nombre del parámetro (por ejemplo, `nombre` en `nombre=Juan`).\n",
    "##### `valor`: guarda el valor del parámetro (por ejemplo, `Juan` en `nombre=Juan`).\n",
    "##### `es_clave`: una bandera (True o False) que nos indica si estamos leyendo la clave o el valor.\n",
    "\n",
    "##### Usamos un ciclo `for` para recorrer cada carácter de `parametros_str`. Si encontramos el símbolo `=` (significa que lo que tenemos en `parametro_actual` es una clave), lo asignamos a `clave`, y luego comenzamos a leer el valor.\n",
    "\n",
    "##### Cuando encontramos un `&` o llegamos al final:\n",
    "##### Si encontramos un `&` o si hemos llegado al final de `parametros_str`, eso significa que hemos terminado de leer un parámetro completo (clave = valor). Entonces, guardamos la clave y el valor en el diccionario `parametros` y limpiamos la variable `parametro_actual` para empezar a procesar el siguiente parámetro.\n",
    "\n",
    "##### Devolver el diccionario de parámetros:\n",
    "##### Finalmente, después de haber recorrido toda la cadena de parámetros, devolvemos el diccionario `parametros`, que contiene todas las claves y valores que hemos encontrado.\n",
    "\n",
    "##### Ejemplo de uso:\n",
    "\n",
    "##### Si llamamos a la función con la URL:\n",
    "\n",
    "##### `url = \"https://ejemplo.com?nombre=Juan&edad=25&ciudad=Madrid\"`\n",
    "##### El resultado será:\n",
    "\n",
    "##### `{'nombre': 'Juan', 'edad': '25', 'ciudad': 'Madrid'}`\n",
    "\n",
    "#### Este Jupiter NoteBook fue ayudado a construir y parte del codigo estructurado con ayuda de Black Box. ai"
   ]
  }
 ],
 "metadata": {
  "kernelspec": {
   "display_name": "Python 3",
   "language": "python",
   "name": "python3"
  },
  "language_info": {
   "codemirror_mode": {
    "name": "ipython",
    "version": 3
   },
   "file_extension": ".py",
   "mimetype": "text/x-python",
   "name": "python",
   "nbconvert_exporter": "python",
   "pygments_lexer": "ipython3",
   "version": "3.13.0"
  }
 },
 "nbformat": 4,
 "nbformat_minor": 2
}
