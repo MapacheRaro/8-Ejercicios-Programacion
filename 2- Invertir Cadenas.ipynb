{
 "cells": [
  {
   "cell_type": "markdown",
   "metadata": {},
   "source": [
    "## INVERSOR DE TEXTO CON ITERADOR FOR"
   ]
  },
  {
   "cell_type": "code",
   "execution_count": null,
   "metadata": {},
   "outputs": [],
   "source": [
    "def invertir_cadena(texto):\n",
    "    cadena_invertida = \"\"\n",
    "    for i in range(len(texto) - 1, -1, -1): \n",
    "        cadena_invertida += texto[i]\n",
    "    return cadena_invertida\n",
    "\n",
    "texto = input(\"Escriba su texto que desea invertir: \")\n",
    "resultado = invertir_cadena(texto)\n",
    "print(resultado)  \n"
   ]
  },
  {
   "cell_type": "markdown",
   "metadata": {},
   "source": [
    "\n",
    "##### Programa que invierte  el texto de una cadena de caracteres. Por ejemplo, si se ingresa \"Hola, mundo\", entonces sale \"odumahola\". La funcion de python para  invertir un string es la siguiente: [::-1] o .reverse() sin embargo para este ejercicio se utilizo una iteracion con ciclo for. En la primera linea de texto definimos la funcion con parametro llamado texto asi cada vez que queramos usarla  solo tendremos que llamarla y pasarle el texto que queramos invertir. Dentro de la función, creamos una variable llamada cadena_invertida y le asignamos una cadena vacía (\"\").Esta variable cadena_invertida sera la que almacenara el texto al reves a medida que vayamos construyendolo.\n",
    "\n",
    "##### Comenzamos un bucle for. Este bucle se usa para recorrer cada caracter de la cadena texto desde el final hasta el principio. función range(len(texto) - 1, -1, -1) genera una secuencia de números que comienza en el último índice de la cadena y va hasta el primer índice. Range para generar el rango y len para  obtener la longitud de la cadena. Esta funcion es importante porque asi tendriamos el valor numerico de la cadena en caracteres y la podremos reorganizar con un iterador en este ccaso  el for.\n",
    "\n",
    "##### len(texto) - 1: Esto nos da el índice del último carácter de la cadena. Por ejemplo, si texto tiene 10 caracteres, len(texto) - 1 será 9 (porque los índices comienzan en 0).-1: Este es el valor de parada del bucle. Significa que el bucle se detendrá justo antes de llegar a -1, lo que garantiza que llegamos al 0. -1: Este es el paso del bucle. El paso negativo -1 hace que el bucle vaya hacia atrás, desde el final de la cadena al principio.\n",
    " \n",
    "##### Dentro del bucle, cada vez que pasamos por un carácter de texto, lo añadimos a cadena_invertida usando += es decir lo almacenamos\n",
    "##### texto[i]: Aquí estamos accediendo al carácter en la posición i de texto. Como i va del último al primer índice, estamos obteniendo los caracteres de texto en orden inverso.\n",
    "##### cadena_invertida += texto[i]: Este += añade el carácter texto[i] al final de cadena_invertida y despues de cada iteracion del bucle, cadena_invertida va creciendo con el texto en orden inverso.\n",
    "\n",
    "##### por ultimo , la funcion devuelve la variable cadena_invertida que contiene el texto al reves. se pide al usuario escriba la  palabra que quiere invertir y se imprime el resultado. el cual sera la palabra invertida\n",
    "\n"
   ]
  }
 ],
 "metadata": {
  "kernelspec": {
   "display_name": "Python 3",
   "language": "python",
   "name": "python3"
  },
  "language_info": {
   "codemirror_mode": {
    "name": "ipython",
    "version": 3
   },
   "file_extension": ".py",
   "mimetype": "text/x-python",
   "name": "python",
   "nbconvert_exporter": "python",
   "pygments_lexer": "ipython3",
   "version": "3.13.0"
  }
 },
 "nbformat": 4,
 "nbformat_minor": 2
}
